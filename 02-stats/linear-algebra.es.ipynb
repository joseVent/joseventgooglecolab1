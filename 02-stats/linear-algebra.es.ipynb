{
  "cells": [
    {
      "cell_type": "markdown",
      "id": "52d41e2c",
      "metadata": {
        "id": "52d41e2c"
      },
      "source": [
        "# Álgebra Lineal"
      ]
    },
    {
      "cell_type": "markdown",
      "id": "c6736e5d",
      "metadata": {
        "id": "c6736e5d"
      },
      "source": [
        "El álgebra lineal es la rama de la matemática sobre ecuaciones lineales que utiliza espacio vectorial y matrices.\n",
        "\n",
        "Las dos entidades matemáticas primarias que son de interés en álgebra lineal son el **vector** y la **matriz**. Son ejemplos de una entidad más general conocida como tensor. Los tensores poseen un orden (o rango), que determina el número de dimensiones en una matriz requerida para representarlo.\n",
        "\n",
        "**Vectores**: Conjunto de elementos numéricos de un tamaño concreto y unidimensionales. Por ejemplo:\n",
        "\n",
        "$$\\begin{matrix} 3 \\\\ 4 \\\\ 5 \\end{matrix}$$\n",
        "\n",
        "`numpy` es la librería por excelencia para trabajar con estas estructuras de datos. Algunos ejemplos para generar vectores aleatorios son:"
      ]
    },
    {
      "cell_type": "code",
      "execution_count": null,
      "id": "f13403ab",
      "metadata": {
        "id": "f13403ab"
      },
      "outputs": [],
      "source": [
        "import numpy as np\n",
        "\n",
        "# Vector de 10 unos\n",
        "a1 = np.ones(10)\n",
        "print(a1)\n",
        "\n",
        "# Vector de 10 números que tienen la misma distancia entre sí, empezando por el 3 y acabando por el 15\n",
        "a2 = np.linspace(3, 15, 10)\n",
        "print(a2)\n",
        "\n",
        "# Vector de 10 números aleatorios entre [0, 1)\n",
        "a3 = np.random.rand(10)\n",
        "print(a3)\n",
        "\n",
        "# Vector de 10 númeos aleatorios entre\n",
        "a4 = np.random.randint(1, 10, size=10)\n",
        "print(a4)"
      ]
    },
    {
      "cell_type": "markdown",
      "id": "bd631630",
      "metadata": {
        "id": "bd631630"
      },
      "source": [
        "**Matriz**: Conjunto de vectores que conforman una estructura rectangular con filas y columnas. Por ejemplo:\n",
        "\n",
        "$$\\begin{matrix} 3 & 4 \\\\ 5 & 6 \\end{matrix}$$\n",
        "\n",
        "Con `numpy` también se puede trabajar con esta librería para generar matrices. Algunos ejemplos para generarlas son:"
      ]
    },
    {
      "cell_type": "code",
      "execution_count": null,
      "id": "8948deb3",
      "metadata": {
        "id": "8948deb3"
      },
      "outputs": [],
      "source": [
        "# Matriz identidad de 5x5 (5 filas, 5 columnas)\n",
        "m1 = np.identity(5)\n",
        "print(m1)\n",
        "\n",
        "# Matriz de 3x2 (3 filas, 2 columnas) con números aleatorios entre [0, 1)\n",
        "m2 = np.random.rand(3, 2)\n",
        "print(m2)\n",
        "\n",
        "# Matriz de 7x5 (7 filas, 5 columnas) con números aleatorios entre 5 y 19\n",
        "m3 = np.random.randint(5, 19, size=(7, 5))\n",
        "print(m3)"
      ]
    },
    {
      "cell_type": "markdown",
      "id": "fe0d8d03",
      "metadata": {
        "id": "fe0d8d03"
      },
      "source": [
        "**Tensores**: Los tensores son una matriz de números o funciones que se transmutan con ciertas reglas cuando cambian las coordenadas. Normalmente el trabajo con tensores es más avanzado y requiere de librerías más orientadas al Machine Learning y a los modelos como `TensorFlow` o `PyTorch`.\n",
        "\n",
        "El ***Machine Learning*** es el punto de contacto para Ciencias Informáticas y Estadística.\n",
        "\n",
        "### Vectores\n",
        "\n",
        "Dado que los escalares existen para representar valores, ¿por qué son necesarios los vectores? Uno de los principales casos de uso de los vectores es representar cantidades físicas que tienen tanto una magnitud como una dirección. Los escalares solo son capaces de representar magnitudes.\n",
        "\n",
        "Por ejemplo, los escalares y los vectores codifican la diferencia entre la rapidez de un automóvil y su velocidad. La velocidad contiene no solo su rapidez, sino que también su dirección de viaje.\n",
        "\n",
        "En Machine Learning los vectores a menudo representan vectores de características, con sus componentes individuales especificando qué tan importante es una característica en particular. Tales características podrían incluir la importancia relativa de las palabras en un documento de texto, la intensidad de un conjunto de píxeles en una imagen bidimensional o valores de precios históricos para una muestra representativa de instrumentos financieros.\n",
        "\n",
        "**Operaciones Escalares**\n",
        "\n",
        "Las operaciones escalares involucran un vector y un número\n"
      ]
    },
    {
      "cell_type": "markdown",
      "id": "ef717237",
      "metadata": {
        "id": "ef717237"
      },
      "source": [
        "![linear_algebra_scalar_operations.png](https://github.com/4GeeksAcademy/machine-learning-content/blob/master/assets/linear_algebra_scalar_operations.png?raw=true)"
      ]
    },
    {
      "cell_type": "code",
      "execution_count": null,
      "id": "2d55183a",
      "metadata": {
        "id": "2d55183a"
      },
      "outputs": [],
      "source": [
        "# Sumar un escalar y un vector. En el siguiente ejemplo, a cada elemento del vector se le sumará un 2.\n",
        "a1 = np.array([1, 2, 3, 4])\n",
        "print(a1 + 2)\n",
        "\n",
        "# Restar un escalar y un vector. En el siguiente ejemplo, a cada elemento del vector se le restará un 1.\n",
        "print(a1 - 1)\n",
        "\n",
        "# Multiplicar un escalar y un vector. En el siguiente ejemplo, a cada elemento del vector se le multiplicará por 10.\n",
        "print(a1 * 10)\n",
        "\n",
        "# Dividir un escalar y un vector. En el siguiente ejemplo, a cada elemento del vector se le dividirá entre 5.\n",
        "print(a1 / 5)"
      ]
    },
    {
      "cell_type": "markdown",
      "id": "ae8ef9bb",
      "metadata": {
        "id": "ae8ef9bb"
      },
      "source": [
        "**Multiplicación de vectores**\n",
        "\n",
        "Hay dos tipos de multiplicación vectorial: producto punto y producto de Hadamard.\n",
        "\n",
        "El producto punto de dos vectores es un escalar. El producto punto de vectores y matrices (multiplicación de matrices) es una de las operaciones más importantes en el aprendizaje profundo."
      ]
    },
    {
      "cell_type": "markdown",
      "id": "146d59b5",
      "metadata": {
        "id": "146d59b5"
      },
      "source": [
        "![linear_algebra_dot_product.png](https://github.com/4GeeksAcademy/machine-learning-content/blob/master/assets/linear_algebra_dot_product.png?raw=true)"
      ]
    },
    {
      "cell_type": "code",
      "execution_count": null,
      "id": "e8d5c787",
      "metadata": {
        "id": "e8d5c787"
      },
      "outputs": [],
      "source": [
        "a1 = np.array([1, 2, 3, 4])\n",
        "a2 = np.linspace(0, 20, 4)\n",
        "\n",
        "a1.dot(a2)"
      ]
    },
    {
      "cell_type": "markdown",
      "id": "dcd1d399",
      "metadata": {
        "id": "dcd1d399"
      },
      "source": [
        "El producto de Hadamard es una multiplicación por elementos y genera un vector."
      ]
    },
    {
      "cell_type": "markdown",
      "id": "a472d811",
      "metadata": {
        "id": "a472d811"
      },
      "source": [
        "![linear_algebra_hadamard_product.png](https://github.com/4GeeksAcademy/machine-learning-content/blob/master/assets/linear_algebra_hadamard_product.png?raw=true)"
      ]
    },
    {
      "cell_type": "code",
      "execution_count": null,
      "id": "f3ff69ba",
      "metadata": {
        "id": "f3ff69ba"
      },
      "outputs": [],
      "source": [
        "a1 = np.array([1, 2, 3, 4])\n",
        "a2 = np.array([10, 10, 10, 10])\n",
        "\n",
        "a1 * a2"
      ]
    },
    {
      "cell_type": "markdown",
      "id": "72c4b002",
      "metadata": {
        "id": "72c4b002"
      },
      "source": [
        "\n",
        "### Matrices\n",
        "\n",
        "Una matriz es una cuadrícula rectangular de números o términos (como una hoja de cálculo de Excel) con reglas especiales para sumar, restar y multiplicar.\n",
        "\n",
        "Dimensiones de la matriz: Describimos las dimensiones de una matriz en términos de filas por columnas.\n",
        "\n",
        "**Operaciones escalares de matrices**\n",
        "\n",
        "Las operaciones escalares con matrices funcionan de la misma manera que con los vectores.\n",
        "\n",
        "Simplemente aplica el escalar a cada elemento de la matriz — suma, resta, divide, multiplica, etc.\n"
      ]
    },
    {
      "cell_type": "markdown",
      "id": "5d17dd5a",
      "metadata": {
        "id": "5d17dd5a"
      },
      "source": [
        "![matrix_scalar_operations.png](https://github.com/4GeeksAcademy/machine-learning-content/blob/master/assets/matrix_scalar_operations.png?raw=true)"
      ]
    },
    {
      "cell_type": "code",
      "execution_count": null,
      "id": "08ab37bd",
      "metadata": {
        "id": "08ab37bd"
      },
      "outputs": [],
      "source": [
        "# Sumar un escalar y una matriz (en este caso de 2 filas y 4 columnas). En el siguiente ejemplo, a cada elemento de la matriz se le sumará un 10.\n",
        "m1 = np.array([[1, 2, 3, 4], [5, 6, 7, 8]])\n",
        "print(m1 + 10)\n",
        "\n",
        "# Restar un escalar y una matriz. En el siguiente ejemplo, a cada elemento de la matriz se le restará un 5.\n",
        "print(m1 - 5)\n",
        "\n",
        "# Multiplicar un escalar y una matriz. En el siguiente ejemplo, a cada elemento de la matriz se le multiplicará por 3.\n",
        "print(m1 * 3)\n",
        "\n",
        "# Dividir un escalar y una matriz. En el siguiente ejemplo, a cada elemento de la matriz se le dividirá entre 2.\n",
        "print(m1 / 2)"
      ]
    },
    {
      "cell_type": "markdown",
      "id": "f9058573",
      "metadata": {
        "id": "f9058573"
      },
      "source": [
        "**Operaciones con elementos matriciales**\n",
        "\n",
        "Para sumar, restar o dividir dos matrices deben tener las mismas dimensiones. Combinamos los valores correspondientes de forma elemental para producir una nueva matriz."
      ]
    },
    {
      "cell_type": "markdown",
      "id": "f82a710e",
      "metadata": {
        "id": "f82a710e"
      },
      "source": [
        "![matrix_elementwise_operations.png](https://github.com/4GeeksAcademy/machine-learning-content/blob/master/assets/matrix_elementwise_operations.png?raw=true)"
      ]
    },
    {
      "cell_type": "code",
      "execution_count": null,
      "id": "fe8fdd2b",
      "metadata": {
        "id": "fe8fdd2b"
      },
      "outputs": [],
      "source": [
        "m1 = np.array([[1, 2, 3, 4], [5, 6, 7, 8]])\n",
        "m2 = np.array([[2, 4, 6, 8], [-1, -2, -3, -4]])\n",
        "\n",
        "# Sumar dos matrices. Deben tener la misma dimensión (mismo número de filas y de columnas). Se suman los elementos en la misma posición de la primera matriz y de la segunda.\n",
        "print(m1 + m2)\n",
        "\n",
        "# Restar dos matrices. Deben tener la misma dimensión (mismo número de filas y de columnas). Se restan los elementos en la misma posición de la primera matriz y de la segunda.\n",
        "print(m1 - m2)\n",
        "\n",
        "# Dividir dos matrices. Deben tener la misma dimensión (mismo número de filas y de columnas). Se dividen los elementos en la misma posición de la primera matriz y de la segunda.\n",
        "print(m1 / m2)"
      ]
    },
    {
      "cell_type": "markdown",
      "id": "51e19bb2",
      "metadata": {
        "id": "51e19bb2"
      },
      "source": [
        "**Multiplicación de matrices**\n",
        "\n",
        "Hay dos tipos de multiplicación matricial: producto punto y producto de Hadamard.\n",
        "\n",
        "El producto punto de dos matrices es una matriz con el número de filas de la primera y el número de columnas de la segunda. Tiene que haber igualdad entre el número de columnas de la primera y el número de filas de la segunda. Esto es, si la matriz A tiene unas dimensiones de $5$ x $3$ (5 filas y 3 columnas) y la matriz B unas dimensiones de $3$ x $2$ (3 filas y 2 columnas), la matriz resultante tras multiplicarlas tendrá unas dimensiones de $5$ x $2$ (y se pueden multiplicar porque la primera tiene 3 columnas y la segunda 3 filas).\n",
        "\n",
        "En el producto punto de matrices, el elemento $c_{ij}$ de la matriz producto se obtiene multiplicando cada elemento de la fila $i$ de la matriz A por cada elemento de la columna $j$ de la matriz B y sumándolos."
      ]
    },
    {
      "cell_type": "code",
      "execution_count": null,
      "id": "51cff7f3",
      "metadata": {
        "id": "51cff7f3"
      },
      "outputs": [],
      "source": [
        "m1 = np.array([[1, 2, 3, 4], [5, 6, 7, 8]])\n",
        "m2 = np.array([[2, 4], [6, 8], [-1, -2], [-3, -4]])\n",
        "\n",
        "m1.dot(m2)"
      ]
    },
    {
      "cell_type": "markdown",
      "id": "e2a1331e",
      "metadata": {
        "id": "e2a1331e"
      },
      "source": [
        "El producto de Hadamard de matrices es una operación elemental. Los valores que corresponden posicionalmente se multiplican para producir una nueva matriz."
      ]
    },
    {
      "cell_type": "markdown",
      "id": "6424f65e",
      "metadata": {
        "id": "6424f65e"
      },
      "source": [
        "![matrix_hadamard_operations.png](https://github.com/4GeeksAcademy/machine-learning-content/blob/master/assets/matrix_hadamard_operations.png?raw=true)"
      ]
    },
    {
      "cell_type": "code",
      "execution_count": null,
      "id": "13f82bb0",
      "metadata": {
        "id": "13f82bb0"
      },
      "outputs": [],
      "source": [
        "m1 = np.array([[1, 2, 3, 4], [5, 6, 7, 8]])\n",
        "m2 = np.array([[2, 4, 6, 8], [-1, -2, -3, -4]])\n",
        "\n",
        "m1 * m2"
      ]
    },
    {
      "cell_type": "markdown",
      "id": "2800ccac",
      "metadata": {
        "id": "2800ccac"
      },
      "source": [
        "**Transposición de matriz**\n",
        "\n",
        "La transposición de matriz proporciona una forma de \"rotar\" una de las matrices para que la operación cumpla con los requisitos de multiplicación y pueda continuar.\n",
        "\n",
        "Hay dos pasos para transponer una matriz:\n",
        "\n",
        "1. Rotar la matriz 90° a la derecha\n",
        "2. Invierte el orden de los elementos en cada fila (por ejemplo, $[a b c]$ se convierte en $[c b a]$)\n"
      ]
    },
    {
      "cell_type": "code",
      "execution_count": null,
      "id": "932c5dee",
      "metadata": {
        "id": "932c5dee"
      },
      "outputs": [],
      "source": [
        "m1 = np.array([[1, 2, 3, 4], [5, 6, 7, 8]])\n",
        "\n",
        "m1.T"
      ]
    },
    {
      "cell_type": "code",
      "execution_count": null,
      "id": "8c6b6aa3",
      "metadata": {
        "id": "8c6b6aa3"
      },
      "outputs": [],
      "source": [
        "m1.transpose()"
      ]
    },
    {
      "cell_type": "markdown",
      "id": "51b654e8",
      "metadata": {
        "id": "51b654e8"
      },
      "source": [
        "### Aplicaciones del Álgebra Lineal en el proceso de Machine Learning.\n",
        "\n",
        "El Álgebra Lineal es aplicable en predicciones, análisis de señales, reconocimiento facial, etc.\n",
        "\n",
        "Algunas aplicaciones:\n",
        "\n",
        "-\tLos datos en un Dataset (conjunto de datos) están vectorizados. Las filas se insertan en un modelo una a la vez para realizar cálculos más fáciles y auténticos.\n",
        "\n",
        "-\tTodas las imágenes tienen una estructura tabular. Forma una matriz en Álgebra Lineal. Las técnicas de edición de imágenes, como recortar y escalar, utilizan operaciones algebraicas.\n",
        "\n",
        "-\tLa regularización es un método que minimiza el tamaño de los coeficientes mientras los inserta en los datos.\n",
        "\n",
        "-\tEl aprendizaje profundo funciona con vectores, matrices e incluso tensores, ya que requiere estructuras de datos lineales agregadas y multiplicadas.\n",
        "\n",
        "-\tEl método 'One hot encoding' codifica categorías para facilitar las operaciones de álgebra.\n",
        "\n",
        "-\tEn la regresión lineal, se utiliza el álgebra lineal para describir la relación entre las variables.\n",
        "\n",
        "-\tCuando encontramos datos irrelevantes, normalmente eliminamos las columnas redundantes, por lo que PCA actúa con la factorización de matrices.\n",
        "\n",
        "-\tCon la ayuda del álgebra lineal, los sistemas de recomendación pueden tener datos más depurados."
      ]
    },
    {
      "cell_type": "markdown",
      "id": "a1288572",
      "metadata": {
        "id": "a1288572"
      },
      "source": [
        "Fuente:\n",
        "\n",
        "https://www.educba.com/linear-algebra-in-machine-learning/\n",
        "\n",
        "https://en.wikipedia.org/wiki/Linear_algebra\n",
        "\n",
        "https://www.quantstart.com/articles/scalars-vectors-matrices-and-tensors-linear-algebra-for-deep-learning-part-1/#:~:text=Vectors%20and%20Matrices%20The%20two%20primary%20mathematical%20entities,a%20more%20general%20entity%20known%20as%20a%20tensor.\n",
        "\n",
        "https://github.com/markkm/math-for-ml\n",
        "\n",
        "https://towardsdatascience.com/linear-algebra-cheat-sheet-for-deep-learning-cd67aba4526c\n"
      ]
    }
  ],
  "metadata": {
    "interpreter": {
      "hash": "9248718ffe6ce6938b217e69dbcc175ea21f4c6b28a317e96c05334edae734bb"
    },
    "kernelspec": {
      "display_name": "Python 3.9.12 ('ML-BOOTCAMP')",
      "language": "python",
      "name": "python3"
    },
    "language_info": {
      "codemirror_mode": {
        "name": "ipython",
        "version": 3
      },
      "file_extension": ".py",
      "mimetype": "text/x-python",
      "name": "python",
      "nbconvert_exporter": "python",
      "pygments_lexer": "ipython3",
      "version": "3.9.12"
    },
    "colab": {
      "provenance": []
    }
  },
  "nbformat": 4,
  "nbformat_minor": 5
}