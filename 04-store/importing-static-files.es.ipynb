{
  "cells": [
    {
      "cell_type": "markdown",
      "id": "8c2010a3",
      "metadata": {
        "id": "8c2010a3"
      },
      "source": [
        "## Carga de archivos en Python"
      ]
    },
    {
      "cell_type": "markdown",
      "id": "08140e4f",
      "metadata": {
        "id": "08140e4f"
      },
      "source": [
        "A continuación vamos a ver ejemplos de código sobre cómo podemos cargar diferentes tipos de archivos. Este código no es ejecutable ya que necesitarías tener en tu directorio de trabajo los ficheros para poder ejecutarlo. Sin embargo, lo puedes usar como referencia.\n",
        "\n",
        "### CSV\n",
        "Un fichero CSV (*Comma-Separated Values*, Valores Separados por Comas) es un fichero que permite representar información en formato de tabla, donde las columnas se separan normalmente por una coma (`,`) aunque también se admiten otros caracteres y las filas por un salto de línea.\n",
        "\n",
        "Normalmente, siempre que queramos leer un `CSV` necesitaremos cargarlo en un DataFrame de Pandas, así que el siguiente código lo posibilitaría:"
      ]
    },
    {
      "cell_type": "code",
      "execution_count": null,
      "id": "10aa53b4",
      "metadata": {
        "id": "10aa53b4"
      },
      "outputs": [],
      "source": [
        "import pandas as pd\n",
        "\n",
        "# Se establece la ruta al fichero que queremos leer\n",
        "file = \"input.csv\"\n",
        "\n",
        "# La función 'read_csv' permite llevar a cabo esta lectura, transformando el fichero en un DataFrame\n",
        "df = pd.read_csv(file, sep = \",\")"
      ]
    },
    {
      "cell_type": "markdown",
      "id": "f6e727da",
      "metadata": {
        "id": "f6e727da"
      },
      "source": [
        "La función `read_csv` de Pandas tiene una gran cantidad de parámetros que permiten adaptar la lectura a las características del fichero. Puedes encontrar la documentación de esta función [aquí](https://pandas.pydata.org/docs/reference/api/pandas.read_csv.html).\n",
        "\n",
        "### Excel (XLSX, XLS)\n",
        "Un fichero de Microsoft Excel (con extensión XLSX o XLS) es en sí una definición de tabla pura, por lo que permite también ser transformado en un DataFrame de Pandas:"
      ]
    },
    {
      "cell_type": "code",
      "execution_count": null,
      "id": "91e36f8b",
      "metadata": {
        "id": "91e36f8b"
      },
      "outputs": [],
      "source": [
        "import pandas as pd\n",
        "\n",
        "# Se establece la ruta del fichero que queremos leer\n",
        "file = \"input.xlsx\"\n",
        "\n",
        "# La función 'read_excel' permite llevar a cabo esta lectura, transformando el fichero en un DataFrame\n",
        "df = pd.read_excel(file, sheet_name = \"Hoja 1\")"
      ]
    },
    {
      "cell_type": "markdown",
      "id": "0bd2a5e4",
      "metadata": {
        "id": "0bd2a5e4"
      },
      "source": [
        "La función `read_excel` de Pandas tiene una gran cantidad de parámetros que permiten adaptar la lectura a las características del fichero. Puedes encontrar la documentación de esta función [aquí](https://pandas.pydata.org/docs/reference/api/pandas.read_excel.html).\n",
        "\n",
        "### JSON\n",
        "Un fichero JSON (*JavaScript Object Notation*, Notación de Objeto de JavaScript) es un formato de archivo cuya función es la de transmitir información estructurada. Su lógica de ordenación tiene puntos similares al XML pero la notación es distinta. En un fichero JSON, los elementos están jerarquizados.\n",
        "\n",
        "Este tipo de ficheros pueden leerse de varias formas, ya que hay una relación directa entre los diccionarios en Python y este tipo de archivos. También lo podemos transformar en un DataFrame de Pandas si cuenta con una estructura regular.\n",
        "\n",
        "#### 1. Archivo a diccionario\n",
        "Supongamos, por ejemplo, la siguiente estructura:\n",
        "\n",
        "```json\n",
        "{\n",
        "    \"filename\": \"invoice.pdf\",\n",
        "    \"numPages\": 3,\n",
        "    \"fields\": {\n",
        "        \"customerName\": \"Telefónica S.A.\",\n",
        "        \"invoiceNumber\": \"1234ABCD\",\n",
        "        \"totalAmount\": \"15.000\",\n",
        "        \"currency\": \"EUR\"\n",
        "    }\n",
        "}\n",
        "```\n",
        "\n",
        "Este tipo de elementos JSON sólo puede ser transformado en un diccionario en Python. No tiene sentido leerlo como un DataFrame de Pandas ya que no cuenta con una estructura afín, como veremos más adelante. Este fichero podríamos leerlo con el paquete `json` de Python:"
      ]
    },
    {
      "cell_type": "code",
      "execution_count": null,
      "id": "7075f81d",
      "metadata": {
        "id": "7075f81d"
      },
      "outputs": [],
      "source": [
        "import json\n",
        "\n",
        "# Se establece la ruta del fichero que queremos leer\n",
        "file = \"input.json\"\n",
        "\n",
        "with open(file, \"r\") as f:\n",
        "    data = json.load(f)"
      ]
    },
    {
      "cell_type": "markdown",
      "id": "591d2cac",
      "metadata": {
        "id": "591d2cac"
      },
      "source": [
        "#### 2. Archivo a DataFrame\n",
        "Supongamos, por ejemplo, la siguiente estructura:\n",
        "\n",
        "```json\n",
        "{\n",
        "    \"files\": [\n",
        "        {\n",
        "            \"filename\": \"invoice1.pdf\",\n",
        "            \"numPages\": 3\n",
        "        },\n",
        "        {\n",
        "            \"filename\": \"invoice2.docx\",\n",
        "            \"numPages\": 10\n",
        "        },\n",
        "        {\n",
        "            \"filename\": \"invoice3.pdf\",\n",
        "            \"numPages\": 2\n",
        "        }\n",
        "    ],\n",
        "    \"status\": 200\n",
        "}\n",
        "```\n",
        "\n",
        "Este ejemplo de JSON replica una respuesta de un servidor tras haberle enviado una consulta. Parte de su contenido (realmente el que nos interesa) tiene una estructura en formato tabla, ya que cada elemento de la lista representaría una fila, y cada elemento (diccionario) representaría la columna. Así lo transformaríamos en DataFrame:"
      ]
    },
    {
      "cell_type": "code",
      "execution_count": null,
      "id": "90ad171f",
      "metadata": {
        "id": "90ad171f"
      },
      "outputs": [],
      "source": [
        "import pandas as pd\n",
        "\n",
        "# Se establece la ruta del fichero que queremos leer\n",
        "file = \"input.json\"\n",
        "\n",
        "# Primero leemos el contenido del JSON\n",
        "with open(file, \"r\") as f:\n",
        "    data = json.load(f)\n",
        "\n",
        "# La función 'from_dict' permite llevar a cabo la transformación de JSON a DataFrame\n",
        "df = pd.DataFrame.from_dict(data)"
      ]
    },
    {
      "cell_type": "markdown",
      "id": "3ef94195",
      "metadata": {
        "id": "3ef94195"
      },
      "source": [
        "### TXT\n",
        "Un fichero TXT (*TeXT*, TeXTo) es un formato de archivo plano que contiene información estructurada o no. En este tipo de ficheros podemos replicar CSVs, JSONs, etcétera. Por eso, las lecturas previamente vistas también aplican a este tipo de ficheros. Para leer este tipo de ficheros, Python tiene una forma muy sencilla de hacerlo:"
      ]
    },
    {
      "cell_type": "code",
      "execution_count": null,
      "id": "833a2555",
      "metadata": {
        "id": "833a2555"
      },
      "outputs": [],
      "source": [
        "# Se establece la ruta del fichero que queremos leer\n",
        "file = \"input.txt\"\n",
        "\n",
        "# Leemos el contenido del TXT\n",
        "with open(file, \"r\") as f:\n",
        "    data = f.read()\n",
        "    data = f.readline(10)\n",
        "    data = f.readlines()"
      ]
    },
    {
      "cell_type": "markdown",
      "id": "895cac3c",
      "metadata": {
        "id": "895cac3c"
      },
      "source": [
        "En el ejemplo anterior se utilizan tres funciones, cada una con un resultado distinto. Supongamos que el fichero anterior tenía el siguiente contenido:\n",
        "\n",
        "```\n",
        "Hola qué tal\n",
        "Este fichero es un documento de ejemplo\n",
        "Para leerlo a través de Python\n",
        "```\n",
        "\n",
        "#### Función `read()`\n",
        "Esta función lee todo el contenido del fichero en formato string incluyendo los saltos de línea como \"\\n\". En el ejemplo anterior, el resultado sería:\n",
        "\n",
        "`\"Hola qué tal\\nEste fichero es un documento de ejemplo\\nPara leerlo a través de Python\"`.\n",
        "\n",
        "#### Función `readline(10)`\n",
        "Esta función lee los primeros `n` caracteres del fichero. En el ejemplo anterior, el resultado sería:\n",
        "\n",
        "`\"Este fiche\"`.\n",
        "\n",
        "Como en la función le pasamos un 10 como argumento, entonces lee los primeros 10 caracteres.\n",
        "\n",
        "#### Función `readlines()`\n",
        "Esta función lee todo el contenido del fichero separando las líneas para devolverlo en formato de lista. En el ejemplo anterior, el resultado sería:\n",
        "\n",
        "`[\"Hola qué tal\", \"Este fichero es un documento de ejemplo\", \"Para leerlo a través de Python\"]`."
      ]
    }
  ],
  "metadata": {
    "kernelspec": {
      "display_name": "Python 3.8.13 64-bit ('3.8.13')",
      "language": "python",
      "name": "python3"
    },
    "language_info": {
      "codemirror_mode": {
        "name": "ipython",
        "version": 3
      },
      "file_extension": ".py",
      "mimetype": "text/x-python",
      "name": "python",
      "nbconvert_exporter": "python",
      "pygments_lexer": "ipython3",
      "version": "3.8.13"
    },
    "vscode": {
      "interpreter": {
        "hash": "110cc1dee26208153f2972f08a2ad52b6a56238dc66d48e87fb757ef2996db56"
      }
    },
    "colab": {
      "provenance": []
    }
  },
  "nbformat": 4,
  "nbformat_minor": 5
}